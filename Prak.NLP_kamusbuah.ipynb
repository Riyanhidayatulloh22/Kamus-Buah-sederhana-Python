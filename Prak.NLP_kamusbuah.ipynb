{
 "cells": [
  {
   "cell_type": "markdown",
   "id": "f53e1ce2",
   "metadata": {},
   "source": [
    "# Latihan 1"
   ]
  },
  {
   "cell_type": "code",
   "execution_count": 1,
   "id": "fb0a90bc",
   "metadata": {},
   "outputs": [],
   "source": [
    "from Sastrawi.Stemmer.StemmerFactory import StemmerFactory"
   ]
  },
  {
   "cell_type": "code",
   "execution_count": 2,
   "id": "91c0f577",
   "metadata": {},
   "outputs": [],
   "source": [
    "# membuat objek stemmer\n",
    "factory = StemmerFactory()\n",
    "stemmer = factory.create_stemmer()"
   ]
  },
  {
   "cell_type": "code",
   "execution_count": 3,
   "id": "d045ec09",
   "metadata": {},
   "outputs": [],
   "source": [
    "# contoh teks\n",
    "text = \"Saya sedang belajar pemrosesan bahasa alami dengan menggunakan Python.\""
   ]
  },
  {
   "cell_type": "code",
   "execution_count": 4,
   "id": "05a9f754",
   "metadata": {},
   "outputs": [],
   "source": [
    "# melakukan stemming pada teks\n",
    "stemmed_text = stemmer.stem(text)"
   ]
  },
  {
   "cell_type": "code",
   "execution_count": 5,
   "id": "a6646eb9",
   "metadata": {},
   "outputs": [
    {
     "name": "stdout",
     "output_type": "stream",
     "text": [
      "saya sedang ajar pemrosesan bahasa alami dengan guna python\n"
     ]
    }
   ],
   "source": [
    "print(stemmed_text)"
   ]
  },
  {
   "cell_type": "markdown",
   "id": "fb8de2bd",
   "metadata": {},
   "source": [
    "# Latihan 2"
   ]
  },
  {
   "cell_type": "code",
   "execution_count": 6,
   "id": "fe265963",
   "metadata": {},
   "outputs": [],
   "source": [
    "# membuat kamus kosong\n",
    "kamus = {}"
   ]
  },
  {
   "cell_type": "code",
   "execution_count": 7,
   "id": "42c88d05",
   "metadata": {},
   "outputs": [],
   "source": [
    "# menambahkan kata ke dalam kamus\n",
    "kamus[\"apel\"] = \"buah yang memiliki daging buah yang manis\"\n",
    "kamus[\"jeruk\"] = \"buah yang memiliki daging buah yang asam\""
   ]
  },
  {
   "cell_type": "code",
   "execution_count": 8,
   "id": "63575e0c",
   "metadata": {},
   "outputs": [
    {
     "name": "stdout",
     "output_type": "stream",
     "text": [
      "{'apel': 'buah yang memiliki daging buah yang manis', 'jeruk': 'buah yang memiliki daging buah yang asam'}\n"
     ]
    }
   ],
   "source": [
    "# mencetak isi kamus\n",
    "print(kamus)"
   ]
  },
  {
   "cell_type": "code",
   "execution_count": 9,
   "id": "0272145e",
   "metadata": {},
   "outputs": [
    {
     "name": "stdout",
     "output_type": "stream",
     "text": [
      "Arti dari kata 'apel' adalah buah yang memiliki daging buah yang manis\n"
     ]
    }
   ],
   "source": [
    "# mencetak arti dari sebuah kata\n",
    "print(\"Arti dari kata 'apel' adalah\", kamus[\"apel\"])"
   ]
  },
  {
   "cell_type": "code",
   "execution_count": 10,
   "id": "5f67dba7",
   "metadata": {},
   "outputs": [],
   "source": [
    "import csv"
   ]
  },
  {
   "cell_type": "code",
   "execution_count": 11,
   "id": "ad1f03d8",
   "metadata": {},
   "outputs": [],
   "source": [
    "# membuat kamus kosong\n",
    "kamus = {}"
   ]
  },
  {
   "cell_type": "code",
   "execution_count": 28,
   "id": "ab88a63b",
   "metadata": {},
   "outputs": [
    {
     "name": "stdout",
     "output_type": "stream",
     "text": [
      "<_csv.reader object at 0x000001F8BC48C880>\n",
      "['Indonesia ', 'Inggris']\n",
      "['Apel', 'Apple']\n",
      "['Alpukat', 'Avocado']\n",
      "['Anggur', 'Grape']\n",
      "['Belimbing', 'Starfruit']\n",
      "['Bengkuang', 'Jicama']\n",
      "['Blewah', 'Winter melon']\n",
      "['Ceri', 'Cherry']\n",
      "['Duku', 'Langsat']\n",
      "['Durian', 'Durian']\n",
      "['Jambu air', 'Rose apple']\n",
      "['Jambu biji', 'Guava']\n",
      "['Jambu monyet', 'Rambutan']\n",
      "['Jeruk', 'Orange']\n",
      "['Jeruk Bali', 'Pomelo']\n",
      "['Jeruk nipis', 'Lime']\n",
      "['Jering', 'Archidendron pauciflorum']\n",
      "['Kelapa', 'Coconut']\n",
      "['Kelengkeng', 'Longan']\n",
      "['Kepel', 'Bilimbi']\n",
      "['Kiwi', 'Kiwi']\n",
      "['Kurma', 'Dates']\n",
      "['Langka', 'Jackfruit']\n",
      "['Leci', 'Lychee']\n",
      "['Lemon', 'Lemon']\n",
      "['Limau', 'Kaffir lime']\n",
      "['Mangga', 'Mango']\n",
      "['Markisa', 'Passion fruit']\n",
      "['Melon', 'Melon']\n",
      "['Nanas', 'Pineapple']\n",
      "['Nangka', 'Jackfruit']\n",
      "['Pepaya', 'Papaya']\n",
      "['Pisang', 'Banana']\n",
      "['Rambutan', 'Rambutan']\n",
      "['Salak', 'Snake fruit']\n",
      "['Sawo', 'Sapodilla']\n",
      "['Semangka', 'Watermelon']\n",
      "['Sirsak', 'Soursop']\n",
      "['Stroberi', 'Strawberry']\n",
      "['Terong Belanda', 'Bitter melon']\n",
      "['Tin', 'Figs']\n",
      "['Tomat', 'Tomato']\n"
     ]
    }
   ],
   "source": [
    "with open('kamus1.csv') as csv_file:\n",
    "    csv_reader = csv.reader(csv_file, delimiter=\",\")\n",
    "    print(csv_reader)\n",
    "    for row in csv_reader:\n",
    "        print(row)"
   ]
  },
  {
   "cell_type": "code",
   "execution_count": 29,
   "id": "a1584a8c",
   "metadata": {},
   "outputs": [
    {
     "name": "stdout",
     "output_type": "stream",
     "text": [
      "{'Indonesia ': 'Inggris', 'Apel': 'Apple', 'Alpukat': 'Avocado', 'Anggur': 'Grape', 'Belimbing': 'Starfruit', 'Bengkuang': 'Jicama', 'Blewah': 'Winter melon', 'Ceri': 'Cherry', 'Duku': 'Langsat', 'Durian': 'Durian', 'Jambu air': 'Rose apple', 'Jambu biji': 'Guava', 'Jambu monyet': 'Rambutan', 'Jeruk': 'Orange', 'Jeruk Bali': 'Pomelo', 'Jeruk nipis': 'Lime', 'Jering': 'Archidendron pauciflorum', 'Kelapa': 'Coconut', 'Kelengkeng': 'Longan', 'Kepel': 'Bilimbi', 'Kiwi': 'Kiwi', 'Kurma': 'Dates', 'Langka': 'Jackfruit', 'Leci': 'Lychee', 'Lemon': 'Lemon', 'Limau': 'Kaffir lime', 'Mangga': 'Mango', 'Markisa': 'Passion fruit', 'Melon': 'Melon', 'Nanas': 'Pineapple', 'Nangka': 'Jackfruit', 'Pepaya': 'Papaya', 'Pisang': 'Banana', 'Rambutan': 'Rambutan', 'Salak': 'Snake fruit', 'Sawo': 'Sapodilla', 'Semangka': 'Watermelon', 'Sirsak': 'Soursop', 'Stroberi': 'Strawberry', 'Terong Belanda': 'Bitter melon', 'Tin': 'Figs', 'Tomat': 'Tomato'}\n"
     ]
    }
   ],
   "source": [
    "# membuka file CSV kamus bahasa Indonesia\n",
    "with open('kamus1.csv', newline='') as csvfile:\n",
    "    reader = csv.reader(csvfile, delimiter=',', quotechar='\"')\n",
    "# membaca setiap baris dalam file CSV dan menambahkannya ke dalam kamus\n",
    "    for row in reader:\n",
    "        kamus[row[0]] = row[1]\n",
    "# mencetak isi kamus\n",
    "print(kamus)"
   ]
  },
  {
   "cell_type": "code",
   "execution_count": 30,
   "id": "1e8dc0de",
   "metadata": {},
   "outputs": [
    {
     "name": "stdout",
     "output_type": "stream",
     "text": [
      "Arti dari kata 'Kiwi' adalah Kiwi\n"
     ]
    }
   ],
   "source": [
    "# mencetak arti dari sebuah kata\n",
    "print(\"Arti dari kata 'Kiwi' adalah\", kamus[\"Kiwi\"])"
   ]
  },
  {
   "cell_type": "code",
   "execution_count": 31,
   "id": "f34151ac",
   "metadata": {},
   "outputs": [
    {
     "name": "stdout",
     "output_type": "stream",
     "text": [
      "  Indonesia     Inggris\n",
      "0       Apel      Apple\n",
      "1    Alpukat    Avocado\n",
      "2     Anggur      Grape\n",
      "3  Belimbing  Starfruit\n",
      "4  Bengkuang     Jicama\n"
     ]
    }
   ],
   "source": [
    "import pandas as pd\n",
    "# membaca file csv kamus bahasa Indonesia\n",
    "df = pd.read_csv('Kamus1.csv', delimiter=',')\n",
    "# menampilkan isi dari dataframe\n",
    "print(df.head())\n"
   ]
  },
  {
   "cell_type": "code",
   "execution_count": 37,
   "id": "ccb06af5",
   "metadata": {},
   "outputs": [
    {
     "name": "stdout",
     "output_type": "stream",
     "text": [
      "Apel Apple\n",
      "Alpukat Avocado\n",
      "Anggur Grape\n",
      "Belimbing Starfruit\n",
      "Bengkuang Jicama\n",
      "Blewah Winter melon\n",
      "Ceri Cherry\n",
      "Duku Langsat\n",
      "Durian Durian\n",
      "Jambu air Rose apple\n",
      "Jambu biji Guava\n",
      "Jambu monyet Rambutan\n",
      "Jeruk Orange\n",
      "Jeruk Bali Pomelo\n",
      "Jeruk nipis Lime\n",
      "Jering Archidendron pauciflorum\n",
      "Kelapa Coconut\n",
      "Kelengkeng Longan\n",
      "Kepel Bilimbi\n",
      "Kiwi Kiwi\n",
      "Kurma Dates\n",
      "Langka Jackfruit\n",
      "Leci Lychee\n",
      "Lemon Lemon\n",
      "Limau Kaffir lime\n",
      "Mangga Mango\n",
      "Markisa Passion fruit\n",
      "Melon Melon\n",
      "Nanas Pineapple\n",
      "Nangka Jackfruit\n",
      "Pepaya Papaya\n",
      "Pisang Banana\n",
      "Rambutan Rambutan\n",
      "Salak Snake fruit\n",
      "Sawo Sapodilla\n",
      "Semangka Watermelon\n",
      "Sirsak Soursop\n",
      "Stroberi Strawberry\n",
      "Terong Belanda Bitter melon\n",
      "Tin Figs\n",
      "Tomat Tomato\n"
     ]
    }
   ],
   "source": [
    "import pandas as pd\n",
    "# membaca file csv kamus bahasa Indonesia-Inggris\n",
    "df = pd.read_csv('Kamus1.csv', delimiter=',')\n",
    "# menampilkan kata-kata dalam bahasa Indonesia dan Inggris\n",
    "for index, row in df.iterrows():\n",
    " kata_indonesia = row['Indonesia ']\n",
    " kata_inggris = row['Inggris']\n",
    " print(kata_indonesia, kata_inggris)\n"
   ]
  },
  {
   "cell_type": "code",
   "execution_count": 48,
   "id": "e0bb7e08",
   "metadata": {},
   "outputs": [
    {
     "name": "stdout",
     "output_type": "stream",
     "text": [
      "  Indonesia     Inggris\n",
      "0       Apel      Apple\n",
      "1    Alpukat    Avocado\n",
      "2     Anggur      Grape\n",
      "3  Belimbing  Starfruit\n",
      "4  Bengkuang     Jicama\n",
      "Kata 'Ceri' dalam bahasa Inggris adalah 'Cherry'\n"
     ]
    }
   ],
   "source": [
    "import pandas as pd\n",
    "# membaca file CSV kamus bahasa Indonesia-Inggris\n",
    "df = pd.read_csv('Kamus1.csv')\n",
    "# menampilkan 5 baris pertama dalam dataframe\n",
    "print(df.head())\n",
    "# mencari kata dalam bahasa Inggris berdasarkan kata dalam bahasa Indonesia\n",
    "kata_indonesia = 'Ceri'\n",
    "kata_inggris = df.loc[df['Indonesia '] == kata_indonesia, 'Inggris'].values\n",
    "print(f\"Kata '{kata_indonesia}' dalam bahasa Inggris adalah '{kata_inggris[0]}'\")"
   ]
  },
  {
   "cell_type": "code",
   "execution_count": 51,
   "id": "d3139703",
   "metadata": {},
   "outputs": [],
   "source": [
    "import pandas as pd\n",
    "import streamlit as st\n",
    "# membaca file CSV kamus bahasa Indonesia-Inggris\n",
    "df = pd.read_csv('Kamus1.csv')\n",
    "st.title('Kamus Bahasa Indonesia-Inggris')\n",
    "# membuat input box untuk memasukkan kata dalam bahasa Indonesia\n",
    "input_indonesia = st.text_input('Masukkan kata dalam bahasa Indonesia')\n",
    "# jika pengguna memasukkan kata, maka program akan mencari arti kata dalam bahasa Inggris\n",
    "if input_indonesia:\n",
    " result = df.loc[df['Indonesia'] == input_indonesia, 'Inggris'].values\n",
    " # menampilkan hasil pencarian\n",
    " if len(result) > 0:\n",
    "    st.write(f\"Arti kata '{input_indonesia}' dalam bahasa Inggris adalah '{result[0]}'\")\n",
    " else:\n",
    "    st.write(f\"Tidak ditemukan arti kata untuk '{input_indonesia}' dalam bahasa Inggris\")\n"
   ]
  },
  {
   "cell_type": "code",
   "execution_count": 52,
   "id": "e0b948dc",
   "metadata": {},
   "outputs": [],
   "source": [
    "import pandas as pd\n",
    "import streamlit as st\n",
    "# Load the Indonesian-English dictionary\n",
    "dictionary = pd.read_csv(\"Kamus1.csv\")\n",
    "def translate(word):\n",
    " translation = dictionary[dictionary[\"Indonesia\"] == word][\"Inggris\"]\n",
    " if len(translation) > 0:\n",
    "        return translation.values[0]\n",
    " else:\n",
    "        return \"Word not found in dictionary.\"\n",
    "# Set up the Streamlit app\n",
    "st.title(\"Kamus Bahasa Indonesia-Inggris\")\n",
    "word = st.text_input(\"Masukkan kata dalam bahasa Indonesia:\")\n",
    "if st.button(\"Terjemahkan\"):\n",
    " translation = translate(word)\n",
    " st.write(\"Arti kata dalam bahasa Inggris:\")\n",
    " st.write(translation)"
   ]
  },
  {
   "cell_type": "code",
   "execution_count": null,
   "id": "5641a4ab",
   "metadata": {},
   "outputs": [],
   "source": []
  }
 ],
 "metadata": {
  "kernelspec": {
   "display_name": "Python 3 (ipykernel)",
   "language": "python",
   "name": "python3"
  },
  "language_info": {
   "codemirror_mode": {
    "name": "ipython",
    "version": 3
   },
   "file_extension": ".py",
   "mimetype": "text/x-python",
   "name": "python",
   "nbconvert_exporter": "python",
   "pygments_lexer": "ipython3",
   "version": "3.10.8"
  },
  "vp": {
   "vp_config_version": "1.0.0",
   "vp_menu_width": 273,
   "vp_note_display": false,
   "vp_note_width": 0,
   "vp_position": {
    "width": 278
   },
   "vp_section_display": false,
   "vp_signature": "VisualPython"
  }
 },
 "nbformat": 4,
 "nbformat_minor": 5
}
